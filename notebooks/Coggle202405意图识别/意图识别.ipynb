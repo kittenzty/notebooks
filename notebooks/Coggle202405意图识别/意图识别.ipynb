{
 "cells": [
  {
   "cell_type": "code",
   "execution_count": 1,
   "id": "1f8d0bbf-d900-419f-affe-f80f5ef1ee94",
   "metadata": {
    "execution": {
     "iopub.execute_input": "2024-11-18T01:22:07.422130Z",
     "iopub.status.busy": "2024-11-18T01:22:07.421486Z",
     "iopub.status.idle": "2024-11-18T01:22:08.846053Z",
     "shell.execute_reply": "2024-11-18T01:22:08.844889Z",
     "shell.execute_reply.started": "2024-11-18T01:22:07.422095Z"
    },
    "scrolled": true
   },
   "outputs": [],
   "source": [
    "#基础\n",
    "import pandas as pd\n",
    "import numpy as np\n",
    "import matplotlib.pyplot as plt\n",
    "%matplotlib inline\n",
    "import warnings\n",
    "warnings.filterwarnings('ignore')\n",
    "\n",
    "#时间、日期\n",
    "import time\n",
    "import datetime\n",
    "from datetime import datetime\n",
    "\n",
    "\n",
    "#多行打印结果\n",
    "from IPython.core.interactiveshell import InteractiveShell\n",
    "InteractiveShell.ast_node_interactivity = 'all' # 默认为'last'，即输出最后一个结果"
   ]
  },
  {
   "cell_type": "markdown",
   "id": "84cd4fa1-628c-4e51-903c-f505124ea308",
   "metadata": {},
   "source": [
    "# 01对话意图识别"
   ]
  },
  {
   "cell_type": "code",
   "execution_count": 6,
   "id": "bede8954-92d2-46f6-a692-d1ad0a9fb8dc",
   "metadata": {
    "execution": {
     "iopub.execute_input": "2024-11-18T01:22:57.368401Z",
     "iopub.status.busy": "2024-11-18T01:22:57.367738Z",
     "iopub.status.idle": "2024-11-18T01:22:58.065696Z",
     "shell.execute_reply": "2024-11-18T01:22:58.064591Z",
     "shell.execute_reply.started": "2024-11-18T01:22:57.368368Z"
    },
    "scrolled": true,
    "tags": []
   },
   "outputs": [
    {
     "data": {
      "text/plain": [
       "1\n",
       "FilmTele-Play            1355\n",
       "Video-Play               1334\n",
       "Music-Play               1304\n",
       "Radio-Listen             1285\n",
       "Alarm-Update             1264\n",
       "Weather-Query            1229\n",
       "Travel-Query             1220\n",
       "HomeAppliance-Control    1215\n",
       "Calendar-Query           1214\n",
       "TVProgram-Play            240\n",
       "Audio-Play                226\n",
       "Other                     214\n",
       "Name: count, dtype: int64"
      ]
     },
     "execution_count": 6,
     "metadata": {},
     "output_type": "execute_result"
    },
    {
     "data": {
      "text/plain": [
       "count    12100.000000\n",
       "mean        15.138678\n",
       "std          4.872583\n",
       "min          4.000000\n",
       "25%         12.000000\n",
       "50%         15.000000\n",
       "75%         18.000000\n",
       "max         54.000000\n",
       "Name: 0, dtype: float64"
      ]
     },
     "execution_count": 6,
     "metadata": {},
     "output_type": "execute_result"
    }
   ],
   "source": [
    "# 读取数据集，这里是直接联网读取，也可以通过下载文件，再读取\n",
    "import pandas as pd\n",
    "\n",
    "data_dir = 'https://mirror.coggle.club/dataset/coggle-competition/'\n",
    "train_data = pd.read_csv(data_dir + 'intent-classify/train.csv', sep='\\t', header=None)\n",
    "test_data = pd.read_csv(data_dir + 'intent-classify/test.csv', sep='\\t', header=None)\n",
    "\n",
    "train_data[1].value_counts()\n",
    "\n",
    "train_data[0].apply(len).describe()"
   ]
  },
  {
   "cell_type": "code",
   "execution_count": 3,
   "id": "693146ff-200b-4ca6-95d2-671ac51effe1",
   "metadata": {
    "execution": {
     "iopub.execute_input": "2024-11-18T01:22:13.871169Z",
     "iopub.status.busy": "2024-11-18T01:22:13.870505Z",
     "iopub.status.idle": "2024-11-18T01:22:13.882034Z",
     "shell.execute_reply": "2024-11-18T01:22:13.881207Z",
     "shell.execute_reply.started": "2024-11-18T01:22:13.871128Z"
    },
    "scrolled": true
   },
   "outputs": [
    {
     "data": {
      "text/html": [
       "<div>\n",
       "<style scoped>\n",
       "    .dataframe tbody tr th:only-of-type {\n",
       "        vertical-align: middle;\n",
       "    }\n",
       "\n",
       "    .dataframe tbody tr th {\n",
       "        vertical-align: top;\n",
       "    }\n",
       "\n",
       "    .dataframe thead th {\n",
       "        text-align: right;\n",
       "    }\n",
       "</style>\n",
       "<table border=\"1\" class=\"dataframe\">\n",
       "  <thead>\n",
       "    <tr style=\"text-align: right;\">\n",
       "      <th></th>\n",
       "      <th>0</th>\n",
       "      <th>1</th>\n",
       "    </tr>\n",
       "  </thead>\n",
       "  <tbody>\n",
       "    <tr>\n",
       "      <th>0</th>\n",
       "      <td>还有双鸭山到淮阴的汽车票吗13号的</td>\n",
       "      <td>Travel-Query</td>\n",
       "    </tr>\n",
       "    <tr>\n",
       "      <th>1</th>\n",
       "      <td>从这里怎么回家</td>\n",
       "      <td>Travel-Query</td>\n",
       "    </tr>\n",
       "    <tr>\n",
       "      <th>2</th>\n",
       "      <td>随便播放一首专辑阁楼里的佛里的歌</td>\n",
       "      <td>Music-Play</td>\n",
       "    </tr>\n",
       "    <tr>\n",
       "      <th>3</th>\n",
       "      <td>给看一下墓王之王嘛</td>\n",
       "      <td>FilmTele-Play</td>\n",
       "    </tr>\n",
       "    <tr>\n",
       "      <th>4</th>\n",
       "      <td>我想看挑战两把s686打突变团竞的游戏视频</td>\n",
       "      <td>Video-Play</td>\n",
       "    </tr>\n",
       "  </tbody>\n",
       "</table>\n",
       "</div>"
      ],
      "text/plain": [
       "                       0              1\n",
       "0      还有双鸭山到淮阴的汽车票吗13号的   Travel-Query\n",
       "1                从这里怎么回家   Travel-Query\n",
       "2       随便播放一首专辑阁楼里的佛里的歌     Music-Play\n",
       "3              给看一下墓王之王嘛  FilmTele-Play\n",
       "4  我想看挑战两把s686打突变团竞的游戏视频     Video-Play"
      ]
     },
     "execution_count": 3,
     "metadata": {},
     "output_type": "execute_result"
    }
   ],
   "source": [
    "train_data.head()"
   ]
  },
  {
   "cell_type": "code",
   "execution_count": 4,
   "id": "82723775-9672-427c-be0d-b3fedf85f9e5",
   "metadata": {
    "execution": {
     "iopub.execute_input": "2024-11-18T01:22:15.913926Z",
     "iopub.status.busy": "2024-11-18T01:22:15.913308Z",
     "iopub.status.idle": "2024-11-18T01:22:15.923008Z",
     "shell.execute_reply": "2024-11-18T01:22:15.922052Z",
     "shell.execute_reply.started": "2024-11-18T01:22:15.913894Z"
    },
    "scrolled": true
   },
   "outputs": [
    {
     "data": {
      "text/html": [
       "<div>\n",
       "<style scoped>\n",
       "    .dataframe tbody tr th:only-of-type {\n",
       "        vertical-align: middle;\n",
       "    }\n",
       "\n",
       "    .dataframe tbody tr th {\n",
       "        vertical-align: top;\n",
       "    }\n",
       "\n",
       "    .dataframe thead th {\n",
       "        text-align: right;\n",
       "    }\n",
       "</style>\n",
       "<table border=\"1\" class=\"dataframe\">\n",
       "  <thead>\n",
       "    <tr style=\"text-align: right;\">\n",
       "      <th></th>\n",
       "      <th>0</th>\n",
       "    </tr>\n",
       "  </thead>\n",
       "  <tbody>\n",
       "    <tr>\n",
       "      <th>0</th>\n",
       "      <td>回放CCTV2的消费主张</td>\n",
       "    </tr>\n",
       "    <tr>\n",
       "      <th>1</th>\n",
       "      <td>给我打开玩具房的灯</td>\n",
       "    </tr>\n",
       "    <tr>\n",
       "      <th>2</th>\n",
       "      <td>循环播放赵本山的小品相亲来听</td>\n",
       "    </tr>\n",
       "    <tr>\n",
       "      <th>3</th>\n",
       "      <td>15号上午10点带孩子去海洋馆的行程帮我制定下。</td>\n",
       "    </tr>\n",
       "    <tr>\n",
       "      <th>4</th>\n",
       "      <td>把智能扫地机器人关掉</td>\n",
       "    </tr>\n",
       "  </tbody>\n",
       "</table>\n",
       "</div>"
      ],
      "text/plain": [
       "                          0\n",
       "0              回放CCTV2的消费主张\n",
       "1                 给我打开玩具房的灯\n",
       "2            循环播放赵本山的小品相亲来听\n",
       "3  15号上午10点带孩子去海洋馆的行程帮我制定下。\n",
       "4                把智能扫地机器人关掉"
      ]
     },
     "execution_count": 4,
     "metadata": {},
     "output_type": "execute_result"
    }
   ],
   "source": [
    "test_data.head()"
   ]
  },
  {
   "cell_type": "code",
   "execution_count": 7,
   "id": "4cea389d-95f1-4f5f-a3dc-32ba384ddd33",
   "metadata": {
    "execution": {
     "iopub.execute_input": "2024-11-18T01:23:03.117292Z",
     "iopub.status.busy": "2024-11-18T01:23:03.116785Z",
     "iopub.status.idle": "2024-11-18T01:23:03.213792Z",
     "shell.execute_reply": "2024-11-18T01:23:03.212885Z",
     "shell.execute_reply.started": "2024-11-18T01:23:03.117260Z"
    },
    "scrolled": true,
    "tags": []
   },
   "outputs": [],
   "source": [
    "from wordcloud import WordCloud  \n",
    "import matplotlib.pyplot as plt\n",
    "import jieba"
   ]
  },
  {
   "cell_type": "code",
   "execution_count": 8,
   "id": "4c71ce9d-f69f-4c54-a64d-78e1340700bf",
   "metadata": {
    "execution": {
     "iopub.execute_input": "2024-11-18T01:23:05.616861Z",
     "iopub.status.busy": "2024-11-18T01:23:05.615644Z",
     "iopub.status.idle": "2024-11-18T01:23:06.574169Z",
     "shell.execute_reply": "2024-11-18T01:23:06.573132Z",
     "shell.execute_reply.started": "2024-11-18T01:23:05.616823Z"
    },
    "scrolled": true
   },
   "outputs": [
    {
     "name": "stderr",
     "output_type": "stream",
     "text": [
      "Building prefix dict from the default dictionary ...\r\n",
      "Dumping model to file cache /tmp/jieba.cache\r\n",
      "Loading model cost 0.863 seconds.\r\n",
      "Prefix dict has been built successfully.\r\n"
     ]
    }
   ],
   "source": [
    "# 中文分词\n",
    "content = ''.join(train_data[train_data[1] == 'Music-Play'][0])\n",
    "words = jieba.lcut(content)\n"
   ]
  },
  {
   "cell_type": "code",
   "execution_count": 9,
   "id": "9c869e88-84df-41fb-98ec-b87adb4ed3ac",
   "metadata": {
    "execution": {
     "iopub.execute_input": "2024-11-18T01:23:08.831676Z",
     "iopub.status.busy": "2024-11-18T01:23:08.830959Z",
     "iopub.status.idle": "2024-11-18T01:23:08.839126Z",
     "shell.execute_reply": "2024-11-18T01:23:08.838002Z",
     "shell.execute_reply.started": "2024-11-18T01:23:08.831639Z"
    },
    "scrolled": true
   },
   "outputs": [
    {
     "data": {
      "text/plain": [
       "11393"
      ]
     },
     "execution_count": 9,
     "metadata": {},
     "output_type": "execute_result"
    },
    {
     "data": {
      "text/plain": [
       "['随便', '播放', '一首', '专辑', '阁楼']"
      ]
     },
     "execution_count": 9,
     "metadata": {},
     "output_type": "execute_result"
    }
   ],
   "source": [
    "len(words)\n",
    "words[:5]"
   ]
  },
  {
   "cell_type": "code",
   "execution_count": 10,
   "id": "1f3a4c39-aef9-448e-8cb0-8170a33265ba",
   "metadata": {
    "execution": {
     "iopub.execute_input": "2024-11-18T01:23:10.039044Z",
     "iopub.status.busy": "2024-11-18T01:23:10.038280Z",
     "iopub.status.idle": "2024-11-18T01:23:10.237547Z",
     "shell.execute_reply": "2024-11-18T01:23:10.236592Z",
     "shell.execute_reply.started": "2024-11-18T01:23:10.039005Z"
    },
    "scrolled": true
   },
   "outputs": [],
   "source": [
    "# 读取中文停用词\n",
    "cn_stopwords = ' '.join(pd.read_csv('https://mirror.coggle.club/stopwords/baidu_stopwords.txt', header=None)[0])\n",
    "words = [x for x in words if x not in cn_stopwords]"
   ]
  },
  {
   "cell_type": "code",
   "execution_count": 11,
   "id": "97749c3f-8396-433f-9615-5dd9cbdcbf60",
   "metadata": {
    "execution": {
     "iopub.execute_input": "2024-11-18T01:23:13.876243Z",
     "iopub.status.busy": "2024-11-18T01:23:13.875687Z",
     "iopub.status.idle": "2024-11-18T01:23:13.883745Z",
     "shell.execute_reply": "2024-11-18T01:23:13.882876Z",
     "shell.execute_reply.started": "2024-11-18T01:23:13.876211Z"
    },
    "scrolled": true
   },
   "outputs": [
    {
     "data": {
      "text/plain": [
       "6792"
      ]
     },
     "execution_count": 11,
     "metadata": {},
     "output_type": "execute_result"
    },
    {
     "data": {
      "text/plain": [
       "['随便', '播放', '一首', '专辑', '阁楼']"
      ]
     },
     "execution_count": 11,
     "metadata": {},
     "output_type": "execute_result"
    }
   ],
   "source": [
    "len(words)\n",
    "words[:5]"
   ]
  },
  {
   "cell_type": "code",
   "execution_count": 14,
   "id": "a3f13fa5-abbd-4ac7-a01d-ac6add4998ed",
   "metadata": {
    "execution": {
     "iopub.execute_input": "2024-11-18T01:24:09.356682Z",
     "iopub.status.busy": "2024-11-18T01:24:09.355776Z",
     "iopub.status.idle": "2024-11-18T01:24:12.157493Z",
     "shell.execute_reply": "2024-11-18T01:24:12.156762Z",
     "shell.execute_reply.started": "2024-11-18T01:24:09.356642Z"
    },
    "scrolled": true,
    "tags": []
   },
   "outputs": [
    {
     "data": {
      "text/plain": [
       "<wordcloud.wordcloud.WordCloud at 0x7f536594aef0>"
      ]
     },
     "execution_count": 14,
     "metadata": {},
     "output_type": "execute_result"
    },
    {
     "data": {
      "text/plain": [
       "<matplotlib.image.AxesImage at 0x7f536594bf40>"
      ]
     },
     "execution_count": 14,
     "metadata": {},
     "output_type": "execute_result"
    },
    {
     "data": {
      "text/plain": [
       "([], [])"
      ]
     },
     "execution_count": 14,
     "metadata": {},
     "output_type": "execute_result"
    },
    {
     "data": {
      "text/plain": [
       "([], [])"
      ]
     },
     "execution_count": 14,
     "metadata": {},
     "output_type": "execute_result"
    },
    {
     "data": {
      "image/png": "[encoded data removed]",
      "text/plain": [
       "<Figure size 640x480 with 1 Axes>"
      ]
     },
     "metadata": {},
     "output_type": "display_data"
    }
   ],
   "source": [
    "# 中文字体，https://mirror.coggle.club/STHeiti-Light.ttc\n",
    "# 手动下载中文字体到当前代码目录\n",
    "wordcloud = WordCloud(background_color = 'white', max_words = 1000, font_path = 'STHeiti-Light.ttc')\n",
    "wordcloud.generate(' '.join(words))\n",
    "plt.imshow(wordcloud)\n",
    "plt.xticks([]); plt.yticks([])"
   ]
  },
  {
   "cell_type": "markdown",
   "id": "d8583e1f-c9ee-4275-9dbe-a78213932fcd",
   "metadata": {},
   "source": [
    "# 02-正则关键词"
   ]
  },
  {
   "cell_type": "code",
   "execution_count": 15,
   "id": "001614e4-4f65-4ea1-b170-3336abc553ea",
   "metadata": {
    "execution": {
     "iopub.execute_input": "2024-11-18T01:24:16.264120Z",
     "iopub.status.busy": "2024-11-18T01:24:16.262873Z",
     "iopub.status.idle": "2024-11-18T01:24:18.279865Z",
     "shell.execute_reply": "2024-11-18T01:24:18.278658Z",
     "shell.execute_reply.started": "2024-11-18T01:24:16.264084Z"
    },
    "scrolled": true
   },
   "outputs": [
    {
     "name": "stdout",
     "output_type": "stream",
     "text": [
      "\r\n",
      "\r\n",
      "单词个数： 77637 \r\n",
      "部分单词展示： ['双鸭山', '淮阴', '汽车票', '13', '号', '。', '回家', '。', '随便', '播放', '一首', '专辑', '阁楼', '佛里', '歌', '。', '墓', '王之王', '。', '想', '挑战', '两把', 's686', '突变', '团', '竞', '游戏', '视频', '。', '想', '和平', '精英', '战神', '必备', '技巧', '游戏', '视频', '。', '2019', '古装', '爱情', '电视剧', '小女', '花不弃', '花絮', '播放', '。', '找', '一个', '2004']\r\n",
      "\r\n",
      "\r\n",
      "单词个数： 52571 \r\n",
      "部分单词展示： ['双鸭山', '淮阴', '汽车票', '13', '回家', '随便', '播放', '一首', '专辑', '阁楼', '佛里', '王之王', '挑战', '两把', 's686', '突变', '游戏', '视频', '和平', '精英', '战神', '必备', '技巧', '游戏', '视频', '2019', '古装', '爱情', '电视剧', '小女', '花不弃', '花絮', '播放', '一个', '2004', '推理', '剧给', '一会', '自驾游', '深圳', '地方', '转播', '女子双打', '乒乓球', '比赛', '现场', '单曲', '循环', '一首', '催眠']\r\n",
      "\r\n",
      "\r\n",
      "单词个数： 50298 \r\n",
      "部分单词展示： ['双鸭山', '淮阴', '汽车票', '回家', '随便', '播放', '一首', '专辑', '阁楼', '佛里', '王之王', '挑战', '两把', 's686', '突变', '游戏', '视频', '和平', '精英', '战神', '必备', '技巧', '游戏', '视频', '古装', '爱情', '电视剧', '小女', '花不弃', '花絮', '播放', '一个', '推理', '剧给', '一会', '自驾游', '深圳', '地方', '转播', '女子双打', '乒乓球', '比赛', '现场', '单曲', '循环', '一首', '催眠', '播放', '曹盾', '导演']\r\n"
     ]
    }
   ],
   "source": [
    "# 读取数据集，这里是直接联网读取，也可以通过下载文件，再读取\n",
    "data_dir = 'https://mirror.coggle.club/dataset/coggle-competition/'\n",
    "train_data = pd.read_csv(data_dir + 'intent-classify/train.csv', sep='\\t', header=None)\n",
    "test_data = pd.read_csv(data_dir + 'intent-classify/test.csv', sep='\\t', header=None)\n",
    "\n",
    "train_text = '。'.join(list(train_data[0]))\n",
    "train_words = jieba.lcut(train_text)\n",
    "\n",
    "cn_stopwords = ' '.join(pd.read_csv('https://mirror.coggle.club/stopwords/baidu_stopwords.txt', header=None)[0])\n",
    "\n",
    "#去除停用词\n",
    "train_words = [x for x in train_words if x not in cn_stopwords]\n",
    "print('\\n\\n单词个数：' ,len(train_words), \"\\n部分单词展示：\" ,train_words[:50])\n",
    "\n",
    "#去除单字\n",
    "train_words = [x for x in train_words if len(x) > 1]\n",
    "print('\\n\\n单词个数：' ,len(train_words), \"\\n部分单词展示：\" ,train_words[:50])\n",
    "\n",
    "#去除纯数字\n",
    "train_words = [x for x in train_words if not x.isdigit()]\n",
    "print('\\n\\n单词个数：' ,len(train_words), \"\\n部分单词展示：\" ,train_words[:50])"
   ]
  },
  {
   "cell_type": "code",
   "execution_count": 16,
   "id": "90f4dc02-a167-4f10-b209-bd005baa8ac2",
   "metadata": {
    "execution": {
     "iopub.execute_input": "2024-11-18T01:24:21.891035Z",
     "iopub.status.busy": "2024-11-18T01:24:21.890326Z",
     "iopub.status.idle": "2024-11-18T01:24:21.915594Z",
     "shell.execute_reply": "2024-11-18T01:24:21.914526Z",
     "shell.execute_reply.started": "2024-11-18T01:24:21.891000Z"
    },
    "scrolled": true
   },
   "outputs": [],
   "source": [
    "#筛选出词频大于5的单词\n",
    "from collections import Counter\n",
    "train_words_freq = Counter(train_words)\n",
    "train_words = [x for x in train_words if train_words_freq[x] >= 5]"
   ]
  },
  {
   "cell_type": "code",
   "execution_count": 17,
   "id": "ebd2dc96-83f9-4b89-a957-b44e68e1c2cb",
   "metadata": {
    "execution": {
     "iopub.execute_input": "2024-11-18T01:24:27.015763Z",
     "iopub.status.busy": "2024-11-18T01:24:27.015191Z",
     "iopub.status.idle": "2024-11-18T01:24:27.020624Z",
     "shell.execute_reply": "2024-11-18T01:24:27.019942Z",
     "shell.execute_reply.started": "2024-11-18T01:24:27.015732Z"
    },
    "scrolled": true
   },
   "outputs": [
    {
     "name": "stdout",
     "output_type": "stream",
     "text": [
      "单词个数： 38266 \r\n",
      "部分单词展示： ['汽车票', '回家', '随便', '播放', '一首', '专辑', '挑战', '游戏', '视频', '和平', '精英', '游戏', '视频', '古装', '爱情', '电视剧', '花絮', '播放', '一个', '推理', '一会', '深圳', '地方', '转播', '比赛', '现场', '单曲', '循环', '一首', '播放', '导演', '古装', '河南', '新闻广播', '新闻台', '交通', '武汉', '交通', '广播电台', '一个', '播放', '王菲', '经典音乐', '一个', '世界', '比赛', '视频', '播放', '钢琴曲', '早上']\r\n"
     ]
    }
   ],
   "source": [
    "print('单词个数：' ,len(train_words), \"\\n部分单词展示：\" ,train_words[:50])"
   ]
  },
  {
   "cell_type": "code",
   "execution_count": 18,
   "id": "fa91da5b-0e8b-4eb8-a5fb-d45281933378",
   "metadata": {
    "execution": {
     "iopub.execute_input": "2024-11-18T01:24:29.644288Z",
     "iopub.status.busy": "2024-11-18T01:24:29.643648Z",
     "iopub.status.idle": "2024-11-18T01:25:24.063523Z",
     "shell.execute_reply": "2024-11-18T01:25:24.062239Z",
     "shell.execute_reply.started": "2024-11-18T01:24:29.644254Z"
    },
    "scrolled": true
   },
   "outputs": [],
   "source": [
    "train_word_prior = {}\n",
    "for row in train_data.iloc[:].itertuples():\n",
    "    text, label = row[1], row[2]\n",
    "    words = jieba.lcut(text)\n",
    "    words = [x for x in words if x in train_words]\n",
    "\n",
    "    if len(words) == 0:\n",
    "        continue\n",
    "\n",
    "    for word in words:\n",
    "        if word not in train_word_prior:\n",
    "            train_word_prior[word] = {\"total\": 0}\n",
    "\n",
    "        if label not in  train_word_prior[word]:\n",
    "            train_word_prior[word][label] = 0\n",
    "\n",
    "        train_word_prior[word][label] += 1\n",
    "        train_word_prior[word][\"total\"] += 1"
   ]
  },
  {
   "cell_type": "code",
   "execution_count": 19,
   "id": "4f9a1514-21f3-4867-91fa-7ed7ea08e4cb",
   "metadata": {
    "execution": {
     "iopub.execute_input": "2024-11-18T01:25:24.085429Z",
     "iopub.status.busy": "2024-11-18T01:25:24.085012Z",
     "iopub.status.idle": "2024-11-18T01:25:24.090113Z",
     "shell.execute_reply": "2024-11-18T01:25:24.089479Z",
     "shell.execute_reply.started": "2024-11-18T01:25:24.085404Z"
    },
    "scrolled": true
   },
   "outputs": [
    {
     "data": {
      "text/plain": [
       "1454"
      ]
     },
     "execution_count": 19,
     "metadata": {},
     "output_type": "execute_result"
    }
   ],
   "source": [
    "len(train_word_prior)"
   ]
  },
  {
   "cell_type": "code",
   "execution_count": 20,
   "id": "7f404dc6-f551-4e79-ba3b-737ed175f842",
   "metadata": {
    "execution": {
     "iopub.execute_input": "2024-11-18T01:25:32.715709Z",
     "iopub.status.busy": "2024-11-18T01:25:32.715017Z",
     "iopub.status.idle": "2024-11-18T01:25:32.721430Z",
     "shell.execute_reply": "2024-11-18T01:25:32.720665Z",
     "shell.execute_reply.started": "2024-11-18T01:25:32.715676Z"
    },
    "scrolled": true
   },
   "outputs": [
    {
     "data": {
      "text/plain": [
       "dict"
      ]
     },
     "execution_count": 20,
     "metadata": {},
     "output_type": "execute_result"
    }
   ],
   "source": [
    "type(train_word_prior)"
   ]
  },
  {
   "cell_type": "code",
   "execution_count": 21,
   "id": "2c2aada6-92cd-4785-bbf8-3ddf1a1f5cc0",
   "metadata": {
    "execution": {
     "iopub.execute_input": "2024-11-18T01:25:33.369418Z",
     "iopub.status.busy": "2024-11-18T01:25:33.368805Z",
     "iopub.status.idle": "2024-11-18T01:25:33.402643Z",
     "shell.execute_reply": "2024-11-18T01:25:33.401669Z",
     "shell.execute_reply.started": "2024-11-18T01:25:33.369386Z"
    },
    "scrolled": true
   },
   "outputs": [],
   "source": [
    "train_word_prior = pd.DataFrame(train_word_prior).T\n",
    "train_word_prior.fillna(0, inplace=True)"
   ]
  },
  {
   "cell_type": "code",
   "execution_count": 22,
   "id": "ed1397c3-d34e-448d-9131-94326d1fe640",
   "metadata": {
    "execution": {
     "iopub.execute_input": "2024-11-18T01:25:34.332333Z",
     "iopub.status.busy": "2024-11-18T01:25:34.331804Z",
     "iopub.status.idle": "2024-11-18T01:25:34.353385Z",
     "shell.execute_reply": "2024-11-18T01:25:34.352628Z",
     "shell.execute_reply.started": "2024-11-18T01:25:34.332303Z"
    },
    "scrolled": true
   },
   "outputs": [
    {
     "data": {
      "text/html": [
       "<div>\n",
       "<style scoped>\n",
       "    .dataframe tbody tr th:only-of-type {\n",
       "        vertical-align: middle;\n",
       "    }\n",
       "\n",
       "    .dataframe tbody tr th {\n",
       "        vertical-align: top;\n",
       "    }\n",
       "\n",
       "    .dataframe thead th {\n",
       "        text-align: right;\n",
       "    }\n",
       "</style>\n",
       "<table border=\"1\" class=\"dataframe\">\n",
       "  <thead>\n",
       "    <tr style=\"text-align: right;\">\n",
       "      <th></th>\n",
       "      <th>total</th>\n",
       "      <th>Travel-Query</th>\n",
       "      <th>Music-Play</th>\n",
       "      <th>Alarm-Update</th>\n",
       "      <th>Video-Play</th>\n",
       "      <th>FilmTele-Play</th>\n",
       "      <th>Radio-Listen</th>\n",
       "      <th>Audio-Play</th>\n",
       "      <th>Other</th>\n",
       "      <th>TVProgram-Play</th>\n",
       "      <th>Weather-Query</th>\n",
       "      <th>HomeAppliance-Control</th>\n",
       "      <th>Calendar-Query</th>\n",
       "    </tr>\n",
       "  </thead>\n",
       "  <tbody>\n",
       "    <tr>\n",
       "      <th>汽车票</th>\n",
       "      <td>39.0</td>\n",
       "      <td>39.0</td>\n",
       "      <td>0.0</td>\n",
       "      <td>0.0</td>\n",
       "      <td>0.0</td>\n",
       "      <td>0.0</td>\n",
       "      <td>0.0</td>\n",
       "      <td>0.0</td>\n",
       "      <td>0.0</td>\n",
       "      <td>0.0</td>\n",
       "      <td>0.0</td>\n",
       "      <td>0.0</td>\n",
       "      <td>0.0</td>\n",
       "    </tr>\n",
       "    <tr>\n",
       "      <th>回家</th>\n",
       "      <td>20.0</td>\n",
       "      <td>8.0</td>\n",
       "      <td>3.0</td>\n",
       "      <td>7.0</td>\n",
       "      <td>1.0</td>\n",
       "      <td>1.0</td>\n",
       "      <td>0.0</td>\n",
       "      <td>0.0</td>\n",
       "      <td>0.0</td>\n",
       "      <td>0.0</td>\n",
       "      <td>0.0</td>\n",
       "      <td>0.0</td>\n",
       "      <td>0.0</td>\n",
       "    </tr>\n",
       "    <tr>\n",
       "      <th>随便</th>\n",
       "      <td>91.0</td>\n",
       "      <td>0.0</td>\n",
       "      <td>30.0</td>\n",
       "      <td>0.0</td>\n",
       "      <td>26.0</td>\n",
       "      <td>15.0</td>\n",
       "      <td>9.0</td>\n",
       "      <td>6.0</td>\n",
       "      <td>4.0</td>\n",
       "      <td>1.0</td>\n",
       "      <td>0.0</td>\n",
       "      <td>0.0</td>\n",
       "      <td>0.0</td>\n",
       "    </tr>\n",
       "    <tr>\n",
       "      <th>播放</th>\n",
       "      <td>1729.0</td>\n",
       "      <td>0.0</td>\n",
       "      <td>464.0</td>\n",
       "      <td>0.0</td>\n",
       "      <td>310.0</td>\n",
       "      <td>589.0</td>\n",
       "      <td>180.0</td>\n",
       "      <td>58.0</td>\n",
       "      <td>6.0</td>\n",
       "      <td>69.0</td>\n",
       "      <td>48.0</td>\n",
       "      <td>5.0</td>\n",
       "      <td>0.0</td>\n",
       "    </tr>\n",
       "    <tr>\n",
       "      <th>一首</th>\n",
       "      <td>406.0</td>\n",
       "      <td>0.0</td>\n",
       "      <td>391.0</td>\n",
       "      <td>0.0</td>\n",
       "      <td>0.0</td>\n",
       "      <td>0.0</td>\n",
       "      <td>0.0</td>\n",
       "      <td>3.0</td>\n",
       "      <td>12.0</td>\n",
       "      <td>0.0</td>\n",
       "      <td>0.0</td>\n",
       "      <td>0.0</td>\n",
       "      <td>0.0</td>\n",
       "    </tr>\n",
       "  </tbody>\n",
       "</table>\n",
       "</div>"
      ],
      "text/plain": [
       "      total  Travel-Query  Music-Play  Alarm-Update  Video-Play  \\\n",
       "汽车票    39.0          39.0         0.0           0.0         0.0   \n",
       "回家     20.0           8.0         3.0           7.0         1.0   \n",
       "随便     91.0           0.0        30.0           0.0        26.0   \n",
       "播放   1729.0           0.0       464.0           0.0       310.0   \n",
       "一首    406.0           0.0       391.0           0.0         0.0   \n",
       "\n",
       "     FilmTele-Play  Radio-Listen  Audio-Play  Other  TVProgram-Play  \\\n",
       "汽车票            0.0           0.0         0.0    0.0             0.0   \n",
       "回家             1.0           0.0         0.0    0.0             0.0   \n",
       "随便            15.0           9.0         6.0    4.0             1.0   \n",
       "播放           589.0         180.0        58.0    6.0            69.0   \n",
       "一首             0.0           0.0         3.0   12.0             0.0   \n",
       "\n",
       "     Weather-Query  HomeAppliance-Control  Calendar-Query  \n",
       "汽车票            0.0                    0.0             0.0  \n",
       "回家             0.0                    0.0             0.0  \n",
       "随便             0.0                    0.0             0.0  \n",
       "播放            48.0                    5.0             0.0  \n",
       "一首             0.0                    0.0             0.0  "
      ]
     },
     "execution_count": 22,
     "metadata": {},
     "output_type": "execute_result"
    }
   ],
   "source": [
    "train_word_prior.head()"
   ]
  },
  {
   "cell_type": "code",
   "execution_count": 23,
   "id": "9fd18853-a3fc-440e-9481-b0e2330ea7e7",
   "metadata": {
    "execution": {
     "iopub.execute_input": "2024-11-18T01:25:39.516166Z",
     "iopub.status.busy": "2024-11-18T01:25:39.515526Z",
     "iopub.status.idle": "2024-11-18T01:25:39.527308Z",
     "shell.execute_reply": "2024-11-18T01:25:39.526476Z",
     "shell.execute_reply.started": "2024-11-18T01:25:39.516137Z"
    },
    "scrolled": true
   },
   "outputs": [],
   "source": [
    "for category in train_data[1].unique():\n",
    "    train_word_prior[category] /= train_word_prior['total']"
   ]
  },
  {
   "cell_type": "code",
   "execution_count": 24,
   "id": "cb15bcaa-957a-480a-9cfb-869f8967de3e",
   "metadata": {
    "execution": {
     "iopub.execute_input": "2024-11-18T01:25:42.380729Z",
     "iopub.status.busy": "2024-11-18T01:25:42.380064Z",
     "iopub.status.idle": "2024-11-18T01:25:42.398491Z",
     "shell.execute_reply": "2024-11-18T01:25:42.397672Z",
     "shell.execute_reply.started": "2024-11-18T01:25:42.380685Z"
    },
    "scrolled": true
   },
   "outputs": [
    {
     "data": {
      "text/plain": [
       "category\n",
       "Alarm-Update             [早上, 我定, 下午, 参加, 公司, 闹钟, 活动, 提醒, 创建, 周末, 上午, 取...\n",
       "Audio-Play               [故事, 小说, 广播剧, 英文版, 岳云鹏, 爆笑, 相声, 有声, 俄语, 第五章, 郭...\n",
       "Calendar-Query           [昨天, 农历, 我查, 星期, 几号, 告诉, 几月, 查查, 礼拜, 几是, 春节, 母...\n",
       "FilmTele-Play            [播放, 古装, 爱情, 电视剧, 一个, 推理, 一会, 地方, 导演, 赵丽颖, 麻烦,...\n",
       "HomeAppliance-Control    [空调, 客厅, 风速, 打开, 烤箱, 儿童房, 调高, 洗衣机, 停止, 工作, 模式,...\n",
       "Music-Play               [随便, 一首, 专辑, 单曲, 循环, 王菲, 钢琴曲, 随机, 治愈, 日语, 歌曲, ...\n",
       "Other                                     [永远, 电话, 笑话, 之间, 老婆, 不好, 漫画, 有人]\n",
       "Radio-Listen             [河南, 新闻广播, 新闻台, 交通, 广播电台, 经典音乐, 七点, 中央, 电台, 都市...\n",
       "TVProgram-Play           [播出, 卫视, 广西, 法治, CCTV11, 剧场, 开播, 文化, 结束, 早间, 贵...\n",
       "Travel-Query             [汽车票, 回家, 深圳, 武汉, 北京, 桂林, 飞机, 起飞, 快点, 三张, 成都, ...\n",
       "Video-Play               [挑战, 游戏, 视频, 和平, 精英, 花絮, 转播, 比赛, 现场, 世界, 年谍, 第...\n",
       "Weather-Query            [查询, 海南, 几级, 刮风, 几天, 山西, 明天, 衡水, 气温, 适合, 杭州, 香...\n",
       "dtype: object"
      ]
     },
     "execution_count": 24,
     "metadata": {},
     "output_type": "execute_result"
    }
   ],
   "source": [
    "train_word_prior['category'] = train_word_prior.columns[1:][train_word_prior.values[:, 1:].argmax(1)]\n",
    "train_word_prior.groupby('category').apply(lambda x: list(x.index))"
   ]
  },
  {
   "cell_type": "markdown",
   "id": "9d575b1f-3e9f-41f3-a578-9d2fcd24a8d6",
   "metadata": {},
   "source": [
    "# 03-TFIDF文本分类"
   ]
  },
  {
   "cell_type": "code",
   "execution_count": 25,
   "id": "83c6aa42-2c82-48c3-ab5d-c4d15ab3ad3f",
   "metadata": {
    "execution": {
     "iopub.execute_input": "2024-11-18T01:25:44.384785Z",
     "iopub.status.busy": "2024-11-18T01:25:44.384110Z",
     "iopub.status.idle": "2024-11-18T01:25:45.229413Z",
     "shell.execute_reply": "2024-11-18T01:25:45.228418Z",
     "shell.execute_reply.started": "2024-11-18T01:25:44.384752Z"
    },
    "scrolled": true
   },
   "outputs": [],
   "source": [
    "import pandas as pd\n",
    "import jieba\n",
    "import matplotlib.pyplot as plt\n",
    "\n",
    "# 读取数据集，这里是直接联网读取，也可以通过下载文件，再读取\n",
    "data_dir = 'https://mirror.coggle.club/dataset/coggle-competition/'\n",
    "train_data = pd.read_csv(data_dir + 'intent-classify/train.csv', sep='\\t', header=None)\n",
    "test_data = pd.read_csv(data_dir + 'intent-classify/test.csv', sep='\\t', header=None)\n",
    "\n",
    "cn_stopwords = pd.read_csv('https://mirror.coggle.club/stopwords/baidu_stopwords.txt', header=None)[0].values"
   ]
  },
  {
   "cell_type": "code",
   "execution_count": 26,
   "id": "7997577a-60e2-4e5d-a93c-a7722d00231f",
   "metadata": {
    "execution": {
     "iopub.execute_input": "2024-11-18T01:25:45.340631Z",
     "iopub.status.busy": "2024-11-18T01:25:45.340095Z",
     "iopub.status.idle": "2024-11-18T01:25:47.519444Z",
     "shell.execute_reply": "2024-11-18T01:25:47.518303Z",
     "shell.execute_reply.started": "2024-11-18T01:25:45.340590Z"
    },
    "scrolled": true
   },
   "outputs": [],
   "source": [
    "from sklearn.feature_extraction.text import TfidfVectorizer\n",
    "\n",
    "tfidf = TfidfVectorizer(\n",
    "    tokenizer=jieba.lcut,\n",
    "    stop_words=list(cn_stopwords)\n",
    ")\n",
    "train_tfidf = tfidf.fit_transform(train_data[0])\n",
    "test_tfidf = tfidf.transform(test_data[0])"
   ]
  },
  {
   "cell_type": "code",
   "execution_count": 27,
   "id": "54772f56-f086-4278-acbb-9de01b39d183",
   "metadata": {
    "execution": {
     "iopub.execute_input": "2024-11-18T01:25:47.587735Z",
     "iopub.status.busy": "2024-11-18T01:25:47.587302Z",
     "iopub.status.idle": "2024-11-18T01:25:47.903782Z",
     "shell.execute_reply": "2024-11-18T01:25:47.902675Z",
     "shell.execute_reply.started": "2024-11-18T01:25:47.587709Z"
    },
    "scrolled": true
   },
   "outputs": [],
   "source": [
    "from sklearn.linear_model import LogisticRegression\n",
    "from sklearn.neighbors import KNeighborsClassifier\n",
    "from sklearn.svm import LinearSVC\n",
    "from sklearn.metrics import classification_report\n",
    "from sklearn.model_selection import cross_val_predict"
   ]
  },
  {
   "cell_type": "code",
   "execution_count": 28,
   "id": "c8f51c40-d108-4fee-9721-f9dfd7fd2c36",
   "metadata": {
    "execution": {
     "iopub.execute_input": "2024-11-18T01:25:48.628479Z",
     "iopub.status.busy": "2024-11-18T01:25:48.627958Z",
     "iopub.status.idle": "2024-11-18T01:25:48.635250Z",
     "shell.execute_reply": "2024-11-18T01:25:48.634408Z",
     "shell.execute_reply.started": "2024-11-18T01:25:48.628449Z"
    },
    "scrolled": true
   },
   "outputs": [
    {
     "data": {
      "text/plain": [
       "(12100, 10694)"
      ]
     },
     "execution_count": 28,
     "metadata": {},
     "output_type": "execute_result"
    },
    {
     "data": {
      "text/plain": [
       "(12100, 2)"
      ]
     },
     "execution_count": 28,
     "metadata": {},
     "output_type": "execute_result"
    }
   ],
   "source": [
    "train_tfidf.shape\n",
    "train_data.shape"
   ]
  },
  {
   "cell_type": "code",
   "execution_count": 29,
   "id": "c713f2dc-d9c0-47bd-a224-10f4593001b1",
   "metadata": {
    "execution": {
     "iopub.execute_input": "2024-11-18T01:25:49.661353Z",
     "iopub.status.busy": "2024-11-18T01:25:49.660831Z",
     "iopub.status.idle": "2024-11-18T01:25:49.670599Z",
     "shell.execute_reply": "2024-11-18T01:25:49.669916Z",
     "shell.execute_reply.started": "2024-11-18T01:25:49.661325Z"
    },
    "scrolled": true
   },
   "outputs": [
    {
     "data": {
      "text/html": [
       "<div>\n",
       "<style scoped>\n",
       "    .dataframe tbody tr th:only-of-type {\n",
       "        vertical-align: middle;\n",
       "    }\n",
       "\n",
       "    .dataframe tbody tr th {\n",
       "        vertical-align: top;\n",
       "    }\n",
       "\n",
       "    .dataframe thead th {\n",
       "        text-align: right;\n",
       "    }\n",
       "</style>\n",
       "<table border=\"1\" class=\"dataframe\">\n",
       "  <thead>\n",
       "    <tr style=\"text-align: right;\">\n",
       "      <th></th>\n",
       "      <th>0</th>\n",
       "      <th>1</th>\n",
       "    </tr>\n",
       "  </thead>\n",
       "  <tbody>\n",
       "    <tr>\n",
       "      <th>0</th>\n",
       "      <td>还有双鸭山到淮阴的汽车票吗13号的</td>\n",
       "      <td>Travel-Query</td>\n",
       "    </tr>\n",
       "    <tr>\n",
       "      <th>1</th>\n",
       "      <td>从这里怎么回家</td>\n",
       "      <td>Travel-Query</td>\n",
       "    </tr>\n",
       "    <tr>\n",
       "      <th>2</th>\n",
       "      <td>随便播放一首专辑阁楼里的佛里的歌</td>\n",
       "      <td>Music-Play</td>\n",
       "    </tr>\n",
       "    <tr>\n",
       "      <th>3</th>\n",
       "      <td>给看一下墓王之王嘛</td>\n",
       "      <td>FilmTele-Play</td>\n",
       "    </tr>\n",
       "    <tr>\n",
       "      <th>4</th>\n",
       "      <td>我想看挑战两把s686打突变团竞的游戏视频</td>\n",
       "      <td>Video-Play</td>\n",
       "    </tr>\n",
       "  </tbody>\n",
       "</table>\n",
       "</div>"
      ],
      "text/plain": [
       "                       0              1\n",
       "0      还有双鸭山到淮阴的汽车票吗13号的   Travel-Query\n",
       "1                从这里怎么回家   Travel-Query\n",
       "2       随便播放一首专辑阁楼里的佛里的歌     Music-Play\n",
       "3              给看一下墓王之王嘛  FilmTele-Play\n",
       "4  我想看挑战两把s686打突变团竞的游戏视频     Video-Play"
      ]
     },
     "execution_count": 29,
     "metadata": {},
     "output_type": "execute_result"
    }
   ],
   "source": [
    "train_data.head()"
   ]
  },
  {
   "cell_type": "code",
   "execution_count": 37,
   "id": "30514161-fb09-449c-a550-421ced25625c",
   "metadata": {
    "execution": {
     "iopub.execute_input": "2024-11-18T01:49:56.545304Z",
     "iopub.status.busy": "2024-11-18T01:49:56.544639Z",
     "iopub.status.idle": "2024-11-18T01:49:56.551837Z",
     "shell.execute_reply": "2024-11-18T01:49:56.550999Z",
     "shell.execute_reply.started": "2024-11-18T01:49:56.545256Z"
    },
    "scrolled": true,
    "tags": []
   },
   "outputs": [
    {
     "data": {
      "text/plain": [
       "<Compressed Sparse Row sparse matrix of dtype 'float64'\n",
       "\twith 1 stored elements and shape (1, 10694)>"
      ]
     },
     "execution_count": 37,
     "metadata": {},
     "output_type": "execute_result"
    }
   ],
   "source": [
    "train_tfidf[:][1]"
   ]
  },
  {
   "cell_type": "code",
   "execution_count": 31,
   "id": "c2dd2850-877c-4fb0-b4d3-51e2933a32d8",
   "metadata": {
    "execution": {
     "iopub.execute_input": "2024-11-18T01:25:51.828651Z",
     "iopub.status.busy": "2024-11-18T01:25:51.827990Z",
     "iopub.status.idle": "2024-11-18T01:48:20.875323Z",
     "shell.execute_reply": "2024-11-18T01:48:20.874144Z",
     "shell.execute_reply.started": "2024-11-18T01:25:51.828606Z"
    },
    "scrolled": true,
    "tags": []
   },
   "outputs": [
    {
     "name": "stdout",
     "output_type": "stream",
     "text": [
      "                       precision    recall  f1-score   support\r\n",
      "\r\n",
      "         Alarm-Update       0.98      0.93      0.96      1264\r\n",
      "           Audio-Play       0.74      0.50      0.60       226\r\n",
      "       Calendar-Query       0.99      0.95      0.97      1214\r\n",
      "        FilmTele-Play       0.70      0.93      0.80      1355\r\n",
      "HomeAppliance-Control       0.94      0.97      0.96      1215\r\n",
      "           Music-Play       0.88      0.87      0.87      1304\r\n",
      "                Other       0.39      0.07      0.11       214\r\n",
      "         Radio-Listen       0.94      0.89      0.91      1285\r\n",
      "       TVProgram-Play       0.72      0.45      0.55       240\r\n",
      "         Travel-Query       0.92      0.96      0.94      1220\r\n",
      "           Video-Play       0.90      0.87      0.89      1334\r\n",
      "        Weather-Query       0.92      0.96      0.94      1229\r\n",
      "\r\n",
      "             accuracy                           0.89     12100\r\n",
      "            macro avg       0.84      0.78      0.79     12100\r\n",
      "         weighted avg       0.89      0.89      0.89     12100\r\n",
      "\r\n"
     ]
    }
   ],
   "source": [
    "cv_pred = cross_val_predict(\n",
    "    LogisticRegression(),\n",
    "    train_tfidf, train_data[1]\n",
    ")\n",
    "print(classification_report(train_data[1], cv_pred))"
   ]
  },
  {
   "cell_type": "code",
   "execution_count": null,
   "id": "ddd2815c-dd2d-4994-82f3-79c1cd167d68",
   "metadata": {
    "scrolled": true
   },
   "outputs": [],
   "source": []
  },
  {
   "cell_type": "markdown",
   "id": "541c4f58-ea40-43d1-b22f-4db7aa113c5c",
   "metadata": {},
   "source": [
    "# 04-词向量训练与使用"
   ]
  },
  {
   "cell_type": "code",
   "execution_count": 39,
   "id": "74558835-9eec-4a72-a4ea-bc7c7697ba68",
   "metadata": {
    "execution": {
     "iopub.execute_input": "2024-11-18T01:50:49.516495Z",
     "iopub.status.busy": "2024-11-18T01:50:49.515972Z",
     "iopub.status.idle": "2024-11-18T01:50:49.743460Z",
     "shell.execute_reply": "2024-11-18T01:50:49.742401Z",
     "shell.execute_reply.started": "2024-11-18T01:50:49.516466Z"
    },
    "scrolled": true,
    "tags": []
   },
   "outputs": [],
   "source": [
    "from sklearn.linear_model import LogisticRegression\n",
    "from sklearn.neighbors import KNeighborsClassifier\n",
    "from sklearn.svm import LinearSVC\n",
    "from sklearn.metrics import classification_report\n",
    "from sklearn.model_selection import cross_val_predict\n",
    "\n",
    "from gensim.test.utils import common_texts\n",
    "from gensim.models import Word2Vec\n",
    "model = Word2Vec(sentences=common_texts, vector_size=100, window=5, min_count=1, workers=4)"
   ]
  },
  {
   "cell_type": "code",
   "execution_count": 40,
   "id": "a4592688-35d7-4a60-9788-62e2a24d2849",
   "metadata": {
    "execution": {
     "iopub.execute_input": "2024-11-18T01:50:52.515921Z",
     "iopub.status.busy": "2024-11-18T01:50:52.515267Z",
     "iopub.status.idle": "2024-11-18T01:50:54.897207Z",
     "shell.execute_reply": "2024-11-18T01:50:54.896311Z",
     "shell.execute_reply.started": "2024-11-18T01:50:52.515891Z"
    },
    "scrolled": true
   },
   "outputs": [],
   "source": [
    "import pandas as pd\n",
    "import numpy as np\n",
    "import jieba\n",
    "\n",
    "data_dir = 'https://mirror.coggle.club/dataset/coggle-competition/'\n",
    "train_data = pd.read_csv(data_dir + 'intent-classify/train.csv', sep='\\t', header=None)\n",
    "test_data = pd.read_csv(data_dir + 'intent-classify/test.csv', sep='\\t', header=None)\n",
    "train_data[0] = train_data[0].apply(jieba.lcut)\n",
    "test_data[0] = test_data[0].apply(jieba.lcut)"
   ]
  },
  {
   "cell_type": "code",
   "execution_count": 41,
   "id": "3a01f060-9531-443d-b403-8f8bef1a22e4",
   "metadata": {
    "execution": {
     "iopub.execute_input": "2024-11-18T01:50:57.015640Z",
     "iopub.status.busy": "2024-11-18T01:50:57.015051Z",
     "iopub.status.idle": "2024-11-18T01:50:58.350029Z",
     "shell.execute_reply": "2024-11-18T01:50:58.349023Z",
     "shell.execute_reply.started": "2024-11-18T01:50:57.015608Z"
    },
    "scrolled": true
   },
   "outputs": [],
   "source": [
    "model = Word2Vec(\n",
    "    sentences=list(train_data[0].values[:]) + list(test_data[0].values[:]), \n",
    "vector_size=30, window=5, min_count=1, workers=4)"
   ]
  },
  {
   "cell_type": "code",
   "execution_count": 42,
   "id": "bb632bd4-d17c-488a-bdb5-fea0e102e90f",
   "metadata": {
    "execution": {
     "iopub.execute_input": "2024-11-18T01:51:17.987935Z",
     "iopub.status.busy": "2024-11-18T01:51:17.987408Z",
     "iopub.status.idle": "2024-11-18T01:51:18.153132Z",
     "shell.execute_reply": "2024-11-18T01:51:18.152264Z",
     "shell.execute_reply.started": "2024-11-18T01:51:17.987905Z"
    },
    "scrolled": true
   },
   "outputs": [
    {
     "data": {
      "text/plain": [
       "[('这时候', 0.9908555746078491),\n",
       " ('加湿器', 0.9898401498794556),\n",
       " ('关掉', 0.9855853319168091),\n",
       " ('热水器', 0.9844029545783997),\n",
       " ('开启', 0.9794743657112122),\n",
       " ('，', 0.9792748093605042),\n",
       " ('洗衣机', 0.9790416955947876),\n",
       " ('灯', 0.9781801104545593),\n",
       " ('关机', 0.9778523445129395),\n",
       " ('冰箱', 0.9769521951675415)]"
      ]
     },
     "execution_count": 42,
     "metadata": {},
     "output_type": "execute_result"
    }
   ],
   "source": [
    "model.wv.most_similar('打开')"
   ]
  },
  {
   "cell_type": "code",
   "execution_count": 43,
   "id": "b36fb174-0987-409b-9c32-b81c661af040",
   "metadata": {
    "execution": {
     "iopub.execute_input": "2024-11-18T01:51:32.916361Z",
     "iopub.status.busy": "2024-11-18T01:51:32.915714Z",
     "iopub.status.idle": "2024-11-18T01:51:33.416685Z",
     "shell.execute_reply": "2024-11-18T01:51:33.415574Z",
     "shell.execute_reply.started": "2024-11-18T01:51:32.916327Z"
    },
    "scrolled": true,
    "tags": []
   },
   "outputs": [],
   "source": [
    "train_w2v = train_data[0].apply(lambda x: model.wv[x].mean(0))\n",
    "test_w2v = test_data[0].apply(lambda x: model.wv[x].mean(0))\n",
    "\n",
    "train_w2v = np.vstack(train_w2v)\n",
    "test_w2v = np.vstack(test_w2v)"
   ]
  },
  {
   "cell_type": "code",
   "execution_count": 44,
   "id": "b19b5f13-acd5-491e-864a-a05fc2a91ded",
   "metadata": {
    "execution": {
     "iopub.execute_input": "2024-11-18T01:51:57.871613Z",
     "iopub.status.busy": "2024-11-18T01:51:57.870991Z",
     "iopub.status.idle": "2024-11-18T01:52:03.028239Z",
     "shell.execute_reply": "2024-11-18T01:52:03.027241Z",
     "shell.execute_reply.started": "2024-11-18T01:51:57.871579Z"
    },
    "scrolled": true,
    "tags": []
   },
   "outputs": [
    {
     "name": "stdout",
     "output_type": "stream",
     "text": [
      "                       precision    recall  f1-score   support\r\n",
      "\r\n",
      "         Alarm-Update       0.91      0.94      0.92      1264\r\n",
      "           Audio-Play       0.00      0.00      0.00       226\r\n",
      "       Calendar-Query       0.92      0.97      0.95      1214\r\n",
      "        FilmTele-Play       0.56      0.62      0.59      1355\r\n",
      "HomeAppliance-Control       0.85      0.92      0.89      1215\r\n",
      "           Music-Play       0.72      0.78      0.75      1304\r\n",
      "                Other       0.11      0.00      0.01       214\r\n",
      "         Radio-Listen       0.84      0.83      0.84      1285\r\n",
      "       TVProgram-Play       0.70      0.03      0.06       240\r\n",
      "         Travel-Query       0.85      0.92      0.88      1220\r\n",
      "           Video-Play       0.69      0.74      0.72      1334\r\n",
      "        Weather-Query       0.82      0.84      0.83      1229\r\n",
      "\r\n",
      "             accuracy                           0.79     12100\r\n",
      "            macro avg       0.66      0.63      0.62     12100\r\n",
      "         weighted avg       0.76      0.79      0.77     12100\r\n",
      "\r\n"
     ]
    }
   ],
   "source": [
    "cv_pred = cross_val_predict(\n",
    "    LinearSVC(),\n",
    "    train_w2v, train_data[1]\n",
    ")\n",
    "print(classification_report(train_data[1], cv_pred))"
   ]
  },
  {
   "cell_type": "markdown",
   "id": "29f15ae8-7cbf-4606-8d7b-8ca85a75db77",
   "metadata": {},
   "source": [
    "# 05-FastText文本分类"
   ]
  },
  {
   "cell_type": "code",
   "execution_count": 55,
   "id": "b172e908-243e-4e0c-8e6f-12887b582b5c",
   "metadata": {
    "execution": {
     "iopub.execute_input": "2024-11-18T02:03:21.216233Z",
     "iopub.status.busy": "2024-11-18T02:03:21.215576Z",
     "iopub.status.idle": "2024-11-18T02:03:22.118564Z",
     "shell.execute_reply": "2024-11-18T02:03:22.117553Z",
     "shell.execute_reply.started": "2024-11-18T02:03:21.216199Z"
    },
    "scrolled": true,
    "tags": []
   },
   "outputs": [],
   "source": [
    "#import torch\r\n",
    "import jieba\r\n",
    "import pandas as pd\r\n",
    "\r\n",
    "data_dir = 'https://mirror.coggle.club/dataset/coggle-competition/'\r\n",
    "train_data = pd.read_csv(data_dir + 'intent-classify/train.csv', sep='\\t', header=None)\r\n",
    "test_data = pd.read_csv(data_dir + 'intent-classify/test.csv', sep='\\t', header=None)"
   ]
  },
  {
   "cell_type": "code",
   "execution_count": 56,
   "id": "f21ad3f4-0b30-4375-bfe1-48030346c949",
   "metadata": {
    "execution": {
     "iopub.execute_input": "2024-11-18T02:03:24.442449Z",
     "iopub.status.busy": "2024-11-18T02:03:24.441813Z",
     "iopub.status.idle": "2024-11-18T02:03:24.451994Z",
     "shell.execute_reply": "2024-11-18T02:03:24.451070Z",
     "shell.execute_reply.started": "2024-11-18T02:03:24.442417Z"
    },
    "scrolled": true,
    "tags": []
   },
   "outputs": [
    {
     "data": {
      "text/html": [
       "<div>\n",
       "<style scoped>\n",
       "    .dataframe tbody tr th:only-of-type {\n",
       "        vertical-align: middle;\n",
       "    }\n",
       "\n",
       "    .dataframe tbody tr th {\n",
       "        vertical-align: top;\n",
       "    }\n",
       "\n",
       "    .dataframe thead th {\n",
       "        text-align: right;\n",
       "    }\n",
       "</style>\n",
       "<table border=\"1\" class=\"dataframe\">\n",
       "  <thead>\n",
       "    <tr style=\"text-align: right;\">\n",
       "      <th></th>\n",
       "      <th>0</th>\n",
       "      <th>1</th>\n",
       "    </tr>\n",
       "  </thead>\n",
       "  <tbody>\n",
       "    <tr>\n",
       "      <th>0</th>\n",
       "      <td>还有双鸭山到淮阴的汽车票吗13号的</td>\n",
       "      <td>Travel-Query</td>\n",
       "    </tr>\n",
       "    <tr>\n",
       "      <th>1</th>\n",
       "      <td>从这里怎么回家</td>\n",
       "      <td>Travel-Query</td>\n",
       "    </tr>\n",
       "    <tr>\n",
       "      <th>2</th>\n",
       "      <td>随便播放一首专辑阁楼里的佛里的歌</td>\n",
       "      <td>Music-Play</td>\n",
       "    </tr>\n",
       "    <tr>\n",
       "      <th>3</th>\n",
       "      <td>给看一下墓王之王嘛</td>\n",
       "      <td>FilmTele-Play</td>\n",
       "    </tr>\n",
       "    <tr>\n",
       "      <th>4</th>\n",
       "      <td>我想看挑战两把s686打突变团竞的游戏视频</td>\n",
       "      <td>Video-Play</td>\n",
       "    </tr>\n",
       "  </tbody>\n",
       "</table>\n",
       "</div>"
      ],
      "text/plain": [
       "                       0              1\n",
       "0      还有双鸭山到淮阴的汽车票吗13号的   Travel-Query\n",
       "1                从这里怎么回家   Travel-Query\n",
       "2       随便播放一首专辑阁楼里的佛里的歌     Music-Play\n",
       "3              给看一下墓王之王嘛  FilmTele-Play\n",
       "4  我想看挑战两把s686打突变团竞的游戏视频     Video-Play"
      ]
     },
     "execution_count": 56,
     "metadata": {},
     "output_type": "execute_result"
    }
   ],
   "source": [
    "train_data.head()"
   ]
  },
  {
   "cell_type": "code",
   "execution_count": 57,
   "id": "a22f7008-9276-4c5e-a414-ffbe9d26054d",
   "metadata": {
    "execution": {
     "iopub.execute_input": "2024-11-18T02:03:27.794566Z",
     "iopub.status.busy": "2024-11-18T02:03:27.793895Z",
     "iopub.status.idle": "2024-11-18T02:03:27.803978Z",
     "shell.execute_reply": "2024-11-18T02:03:27.802593Z",
     "shell.execute_reply.started": "2024-11-18T02:03:27.794532Z"
    },
    "scrolled": true,
    "tags": []
   },
   "outputs": [
    {
     "data": {
      "text/plain": [
       "0                 Travel-Query\n",
       "1                 Travel-Query\n",
       "2                   Music-Play\n",
       "3                FilmTele-Play\n",
       "4                   Video-Play\n",
       "                 ...          \n",
       "12095           Calendar-Query\n",
       "12096    HomeAppliance-Control\n",
       "12097             Radio-Listen\n",
       "12098               Video-Play\n",
       "12099             Alarm-Update\n",
       "Name: 1, Length: 12100, dtype: object"
      ]
     },
     "execution_count": 57,
     "metadata": {},
     "output_type": "execute_result"
    }
   ],
   "source": [
    "train_data[1]"
   ]
  },
  {
   "cell_type": "code",
   "execution_count": 58,
   "id": "eb39900f-a003-4d75-92f3-7346351bc727",
   "metadata": {
    "execution": {
     "iopub.execute_input": "2024-11-18T02:03:36.814472Z",
     "iopub.status.busy": "2024-11-18T02:03:36.813937Z",
     "iopub.status.idle": "2024-11-18T02:03:36.820237Z",
     "shell.execute_reply": "2024-11-18T02:03:36.819404Z",
     "shell.execute_reply.started": "2024-11-18T02:03:36.814441Z"
    },
    "scrolled": true,
    "tags": []
   },
   "outputs": [],
   "source": [
    "train_data[1], lbl = pd.factorize(train_data[1])"
   ]
  },
  {
   "cell_type": "code",
   "execution_count": 59,
   "id": "645a53bf-000e-42aa-90cb-b959d20e65b8",
   "metadata": {
    "execution": {
     "iopub.execute_input": "2024-11-18T02:03:39.015370Z",
     "iopub.status.busy": "2024-11-18T02:03:39.014722Z",
     "iopub.status.idle": "2024-11-18T02:03:39.022846Z",
     "shell.execute_reply": "2024-11-18T02:03:39.022081Z",
     "shell.execute_reply.started": "2024-11-18T02:03:39.015337Z"
    },
    "scrolled": true,
    "tags": []
   },
   "outputs": [
    {
     "data": {
      "text/plain": [
       "0        0\n",
       "1        0\n",
       "2        1\n",
       "3        2\n",
       "4        3\n",
       "        ..\n",
       "12095    8\n",
       "12096    5\n",
       "12097    4\n",
       "12098    3\n",
       "12099    7\n",
       "Name: 1, Length: 12100, dtype: int64"
      ]
     },
     "execution_count": 59,
     "metadata": {},
     "output_type": "execute_result"
    }
   ],
   "source": [
    "train_data[1]"
   ]
  },
  {
   "cell_type": "code",
   "execution_count": 60,
   "id": "e082ffe7-fa1e-401d-ad6c-ad2a3117e6e5",
   "metadata": {
    "execution": {
     "iopub.execute_input": "2024-11-18T02:03:48.226846Z",
     "iopub.status.busy": "2024-11-18T02:03:48.226312Z",
     "iopub.status.idle": "2024-11-18T02:03:48.232599Z",
     "shell.execute_reply": "2024-11-18T02:03:48.231713Z",
     "shell.execute_reply.started": "2024-11-18T02:03:48.226816Z"
    },
    "scrolled": true,
    "tags": []
   },
   "outputs": [
    {
     "data": {
      "text/plain": [
       "Index(['Travel-Query', 'Music-Play', 'FilmTele-Play', 'Video-Play',\n",
       "       'Radio-Listen', 'HomeAppliance-Control', 'Weather-Query',\n",
       "       'Alarm-Update', 'Calendar-Query', 'TVProgram-Play', 'Audio-Play',\n",
       "       'Other'],\n",
       "      dtype='object')"
      ]
     },
     "execution_count": 60,
     "metadata": {},
     "output_type": "execute_result"
    }
   ],
   "source": [
    "lbl"
   ]
  },
  {
   "cell_type": "code",
   "execution_count": 61,
   "id": "a6328430-8366-4629-a72d-049fd1fe232d",
   "metadata": {
    "execution": {
     "iopub.execute_input": "2024-11-18T02:04:11.666303Z",
     "iopub.status.busy": "2024-11-18T02:04:11.665355Z",
     "iopub.status.idle": "2024-11-18T02:04:11.672213Z",
     "shell.execute_reply": "2024-11-18T02:04:11.670889Z",
     "shell.execute_reply.started": "2024-11-18T02:04:11.666245Z"
    },
    "scrolled": true,
    "tags": []
   },
   "outputs": [],
   "source": [
    "def coustom_data_iter(texts, labels):\r\n",
    "    for x, y in zip(texts, labels):\r\n",
    "        yield x, y"
   ]
  },
  {
   "cell_type": "code",
   "execution_count": 62,
   "id": "0bba7a7d-ffb3-428c-b183-adefb1c8ac1f",
   "metadata": {
    "execution": {
     "iopub.execute_input": "2024-11-18T02:04:37.326026Z",
     "iopub.status.busy": "2024-11-18T02:04:37.325465Z",
     "iopub.status.idle": "2024-11-18T02:04:37.330889Z",
     "shell.execute_reply": "2024-11-18T02:04:37.330085Z",
     "shell.execute_reply.started": "2024-11-18T02:04:37.325976Z"
    },
    "scrolled": true
   },
   "outputs": [],
   "source": [
    "train_iter = coustom_data_iter(train_data[0].values[:], train_data[1].values[:])"
   ]
  },
  {
   "cell_type": "code",
   "execution_count": 63,
   "id": "04aedc69-5a1f-4022-b61a-567f91c1a7f8",
   "metadata": {
    "execution": {
     "iopub.execute_input": "2024-11-18T02:04:46.334447Z",
     "iopub.status.busy": "2024-11-18T02:04:46.333794Z",
     "iopub.status.idle": "2024-11-18T02:04:46.340378Z",
     "shell.execute_reply": "2024-11-18T02:04:46.339372Z",
     "shell.execute_reply.started": "2024-11-18T02:04:46.334416Z"
    },
    "scrolled": true
   },
   "outputs": [
    {
     "data": {
      "text/plain": [
       "('还有双鸭山到淮阴的汽车票吗13号的', 0)"
      ]
     },
     "execution_count": 63,
     "metadata": {},
     "output_type": "execute_result"
    }
   ],
   "source": [
    "next(train_iter)"
   ]
  },
  {
   "cell_type": "code",
   "execution_count": 67,
   "id": "a3724704-b96d-4a37-ba1e-4313be2dcf8b",
   "metadata": {
    "execution": {
     "iopub.execute_input": "2024-11-18T02:10:49.014676Z",
     "iopub.status.busy": "2024-11-18T02:10:49.014118Z",
     "iopub.status.idle": "2024-11-18T02:10:49.018770Z",
     "shell.execute_reply": "2024-11-18T02:10:49.017953Z",
     "shell.execute_reply.started": "2024-11-18T02:10:49.014643Z"
    },
    "scrolled": true,
    "tags": []
   },
   "outputs": [],
   "source": [
    "import paddle as torch\r\n",
    "import paddle"
   ]
  },
  {
   "cell_type": "code",
   "execution_count": null,
   "id": "c435ea53-83c9-4479-b24a-ac66641d5419",
   "metadata": {
    "scrolled": true,
    "tags": []
   },
   "outputs": [],
   "source": []
  },
  {
   "cell_type": "code",
   "execution_count": 66,
   "id": "8e30ac62-aafc-4510-ad32-bddf13cb86db",
   "metadata": {
    "execution": {
     "iopub.execute_input": "2024-11-18T02:10:33.423814Z",
     "iopub.status.busy": "2024-11-18T02:10:33.423168Z",
     "iopub.status.idle": "2024-11-18T02:10:33.454530Z",
     "shell.execute_reply": "2024-11-18T02:10:33.453315Z",
     "shell.execute_reply.started": "2024-11-18T02:10:33.423773Z"
    },
    "scrolled": true,
    "tags": []
   },
   "outputs": [
    {
     "ename": "ModuleNotFoundError",
     "evalue": "No module named 'paddle.data'",
     "output_type": "error",
     "traceback": [
      "\u001b[0;31m---------------------------------------------------------------------------\u001b[0m",
      "\u001b[0;31mModuleNotFoundError\u001b[0m                       Traceback (most recent call last)",
      "Cell \u001b[0;32mIn[66], line 1\u001b[0m\n\u001b[0;32m----> 1\u001b[0m \u001b[38;5;28;01mfrom\u001b[39;00m \u001b[38;5;21;01mpaddle\u001b[39;00m\u001b[38;5;21;01m.\u001b[39;00m\u001b[38;5;21;01mdata\u001b[39;00m\u001b[38;5;21;01m.\u001b[39;00m\u001b[38;5;21;01mutils\u001b[39;00m \u001b[38;5;28;01mimport\u001b[39;00m get_tokenizer\n\u001b[1;32m      2\u001b[0m \u001b[38;5;28;01mfrom\u001b[39;00m \u001b[38;5;21;01mpaddle\u001b[39;00m\u001b[38;5;21;01m.\u001b[39;00m\u001b[38;5;21;01mvocab\u001b[39;00m \u001b[38;5;28;01mimport\u001b[39;00m build_vocab_from_iterator\n\u001b[1;32m      4\u001b[0m tokenizer \u001b[38;5;241m=\u001b[39m jieba\u001b[38;5;241m.\u001b[39mlcut\n",
      "\u001b[0;31mModuleNotFoundError\u001b[0m: No module named 'paddle.data'"
     ]
    }
   ],
   "source": [
    "from torchtext.data.utils import get_tokenizer\r\n",
    "from torchtext.vocab import build_vocab_from_iterator\r\n",
    "\r\n",
    "tokenizer = jieba.lcut\r\n",
    "\r\n",
    "def yield_tokens(data_iter):\r\n",
    "    for text, _ in data_iter:\r\n",
    "        yield tokenizer(text)\r\n",
    "\r\n",
    "vocab = build_vocab_from_iterator(yield_tokens(train_iter), specials=[\"<unk>\"])\r\n",
    "vocab.set_default_index(vocab[\"<unk>\"])"
   ]
  },
  {
   "cell_type": "markdown",
   "id": "27236955-71bd-43c6-be9d-5fdd9d86a909",
   "metadata": {},
   "source": [
    "# 06-LSTM文本分类.ipynb"
   ]
  },
  {
   "cell_type": "markdown",
   "id": "197073a8-f28f-4632-83bb-e75afe93aad2",
   "metadata": {},
   "source": [
    "# 08-BERT文本分类.ipynb"
   ]
  },
  {
   "cell_type": "markdown",
   "id": "579339a1-5e47-4cc7-b528-e8cdf6b42be7",
   "metadata": {},
   "source": [
    "# 09-BERT高效微调.ipynb"
   ]
  },
  {
   "cell_type": "markdown",
   "id": "76d7ca00-5ead-401c-a8e5-2de0808373bc",
   "metadata": {},
   "source": [
    "# 10-T5加载与使用.ipynb"
   ]
  },
  {
   "cell_type": "markdown",
   "id": "9f725c6d-7cd7-4540-aa73-7efd162354d8",
   "metadata": {},
   "source": [
    "# 11-T5微调文本分类.ipynb"
   ]
  },
  {
   "cell_type": "markdown",
   "id": "10cbe49c-cfe5-4215-9d47-4d8c4f715882",
   "metadata": {},
   "source": [
    "# 12-Qwen大模型加载与使用.ipynb"
   ]
  },
  {
   "cell_type": "markdown",
   "id": "9ba70a99-7cbd-4a1c-9638-27b150a6da4b",
   "metadata": {},
   "source": [
    "# 13-Qwen大模型微调文本分类.ipynb"
   ]
  },
  {
   "cell_type": "code",
   "execution_count": null,
   "id": "a1de5540-e9cd-4d1f-8386-6cc0e34aaa21",
   "metadata": {
    "scrolled": true
   },
   "outputs": [],
   "source": [
    "\n",
    "\n"
   ]
  }
 ],
 "metadata": {
  "kernelspec": {
   "display_name": "Python 3",
   "language": "python",
   "name": "py35-paddle1.2.0"
  },
  "language_info": {
   "codemirror_mode": {
    "name": "ipython",
    "version": 3
   },
   "file_extension": ".py",
   "mimetype": "text/x-python",
   "name": "python",
   "nbconvert_exporter": "python",
   "pygments_lexer": "ipython3",
   "version": "3.10.10"
  }
 },
 "nbformat": 4,
 "nbformat_minor": 5
}
